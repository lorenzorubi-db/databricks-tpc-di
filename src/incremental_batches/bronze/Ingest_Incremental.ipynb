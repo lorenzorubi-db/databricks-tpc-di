{
 "cells": [
  {
   "cell_type": "code",
   "execution_count": 0,
   "metadata": {
    "application/vnd.databricks.v1+cell": {
     "cellMetadata": {},
     "inputWidgets": {},
     "nuid": "8ba9bc70-0d41-44d9-b5c6-201079857208",
     "showTitle": false,
     "tableResultSettingsMap": {},
     "title": ""
    }
   },
   "outputs": [],
   "source": [
    "-- CREATE WIDGET DROPDOWN scale_factor DEFAULT \"10\" CHOICES SELECT * FROM (VALUES (\"10\"), (\"100\"), (\"1000\"), (\"5000\"), (\"10000\"));\n",
    "-- CREATE WIDGET TEXT catalog DEFAULT 'tpcdi';\n",
    "-- CREATE WIDGET TEXT tbl DEFAULT '';\n",
    "-- CREATE WIDGET TEXT tpcdi_directory DEFAULT \"/Volumes/tpcdi/tpcdi_raw_data/tpcdi_volume/\";\n",
    "-- CREATE WIDGET TEXT filename DEFAULT '';\n",
    "-- CREATE WIDGET TEXT raw_schema DEFAULT '';\n",
    "-- CREATE WIDGET TEXT wh_db DEFAULT '';"
   ]
  },
  {
   "cell_type": "code",
   "execution_count": 0,
   "metadata": {
    "application/vnd.databricks.v1+cell": {
     "cellMetadata": {},
     "inputWidgets": {},
     "nuid": "fa79ad8f-952e-4d57-840f-b4887d66b132",
     "showTitle": false,
     "tableResultSettingsMap": {},
     "title": ""
    }
   },
   "outputs": [],
   "source": [
    "INSERT OVERWRITE IDENTIFIER(:catalog || '.' || :wh_db || '_' || :scale_factor || '.' || :tbl)\n",
    "SELECT \n",
    "  *,\n",
    "  int(substring(_metadata.file_path FROM (position('/Batch', _metadata.file_path) + 6) FOR 1)) batchid\n",
    "FROM read_files(\n",
    "  \"${tpcdi_directory}sf=${scale_factor}/Batch*\",\n",
    "  format => \"csv\",\n",
    "  inferSchema => False, \n",
    "  header => False,\n",
    "  sep => \"|\",\n",
    "  fileNamePattern => \"${filename}\", \n",
    "  schema => \"${raw_schema}\"\n",
    ")"
   ]
  }
 ],
 "metadata": {
  "application/vnd.databricks.v1+notebook": {
   "computePreferences": null,
   "dashboards": [],
   "environmentMetadata": {
    "base_environment": "",
    "environment_version": "2"
   },
   "inputWidgetPreferences": null,
   "language": "sql",
   "notebookMetadata": {
    "pythonIndentUnit": 4
   },
   "notebookName": "Ingest_Incremental",
   "widgets": {}
  },
  "language_info": {
   "name": "sql"
  }
 },
 "nbformat": 4,
 "nbformat_minor": 0
}
